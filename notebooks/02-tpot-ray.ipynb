{
 "cells": [
  {
   "cell_type": "code",
   "execution_count": null,
   "metadata": {},
   "outputs": [],
   "source": [
    "from deltalake import DeltaTable, write_deltalake\n",
    "from pathlib import Path\n",
    "import datetime\n",
    "import ray\n",
    "import pandas as pd\n",
    "import polars as pl\n",
    "from tpot import TPOTClassifier, TPOTRegressor\n",
    "from sklearn.model_selection import train_test_split"
   ]
  },
  {
   "cell_type": "code",
   "execution_count": null,
   "metadata": {},
   "outputs": [],
   "source": [
    "ray.init(ignore_reinit_error=True, num_cpus=4, object_store_memory=1_000_000_000)"
   ]
  },
  {
   "cell_type": "code",
   "execution_count": 3,
   "metadata": {},
   "outputs": [],
   "source": [
    "input_data_path = r\"../data/delta\""
   ]
  },
  {
   "cell_type": "code",
   "execution_count": 13,
   "metadata": {},
   "outputs": [],
   "source": [
    "dt = DeltaTable(input_data_path)\n",
    "# dict of partitions\n",
    "entity_partitions = dt.partitions()\n",
    "sample_fraction = 1.0"
   ]
  },
  {
   "cell_type": "code",
   "execution_count": 5,
   "metadata": {},
   "outputs": [],
   "source": [
    "entity_partitions = [{'entity': 'entity_18'},\n",
    " {'entity': 'entity_13'},\n",
    " {'entity': 'entity_7'},\n",
    "]\n",
    "entity_partition = \"entity_19\"\n",
    "entity_col = 'entity'\n"
   ]
  },
  {
   "cell_type": "code",
   "execution_count": 14,
   "metadata": {},
   "outputs": [],
   "source": [
    "# tpot = TPOTRegressor(generations=2, population_size=3, verbosity=2, random_state=42)\n",
    "tpot = TPOTClassifier(generations=2, population_size=3, verbosity=2, random_state=42)"
   ]
  },
  {
   "cell_type": "code",
   "execution_count": 15,
   "metadata": {},
   "outputs": [],
   "source": [
    "@ray.remote\n",
    "def process_entity(input_data_path, entity_partition, sample_fraction=1.0):\n",
    "    entity_pldf = pl.read_delta(input_data_path, pyarrow_options={\"partitions\": [(\"entity\", \"=\", f\"{entity_partition}\")]})\n",
    "    entity_pdf = entity_pldf.sample(fraction=sample_fraction).to_pandas()\n",
    "\n",
    "    features = [s for s in entity_pdf.columns.to_list() if s.isdigit()]\n",
    "    target = 'target'\n",
    "\n",
    "    # prepare data\n",
    "    X_train, X_test, y_train, y_test = train_test_split(\n",
    "        entity_pdf[features], entity_pdf[target], test_size=0.25, random_state=42\n",
    "    )\n",
    "\n",
    "    tpot.fit(X_train, y_train)\n",
    "    entity_score = tpot.score(X_test, y_test)\n",
    "\n",
    "    # # mocking failure\n",
    "    # if entity_partition == 'entity_19' and sample_fraction > 0.8:\n",
    "    #     raise ValueError\n",
    "    return entity_partition, entity_pldf.shape, entity_pdf.shape, entity_score"
   ]
  },
  {
   "cell_type": "code",
   "execution_count": 16,
   "metadata": {},
   "outputs": [],
   "source": [
    "output = {}\n",
    "start_time_ray =  datetime.datetime.now()\n",
    "\n",
    "for part in entity_partitions:\n",
    "    entity_partition = part[entity_col]\n",
    "    entity_objref = process_entity.remote(input_data_path, entity_partition, sample_fraction)\n",
    "    output[entity_objref] = (input_data_path, entity_partition, sample_fraction)"
   ]
  },
  {
   "cell_type": "code",
   "execution_count": null,
   "metadata": {},
   "outputs": [],
   "source": [
    "# TODO arch diagram"
   ]
  },
  {
   "cell_type": "code",
   "execution_count": null,
   "metadata": {},
   "outputs": [],
   "source": [
    "results = {}\n",
    "while output:\n",
    "    done, _ = ray.wait(list(output.keys()), num_returns=1)\n",
    "    done = done[0]\n",
    "    done_key = output.pop(done)\n",
    "    print(f\"original args ..... {done_key}\")\n",
    "    try:\n",
    "        results[done_key[1]] = ray.get(done)\n",
    "    except (ray.exceptions.RayTaskError, ray.exceptions.WorkerCrashedError) as e:\n",
    "        # get raised memory error and then retry based on that\n",
    "        print(e)\n",
    "        input_data_path, entity_partition, sample_fraction = done_key\n",
    "        sample_fraction *= 0.9\n",
    "        done_key = (input_data_path, entity_partition, sample_fraction)\n",
    "        entity_objref = process_entity.remote(*done_key)\n",
    "        output[entity_objref] = done_key\n",
    "        print(f\"updated args ------ {done_key}\")\n",
    "\n",
    "exec_duration_ray =  datetime.datetime.now() - start_time_ray"
   ]
  },
  {
   "cell_type": "code",
   "execution_count": null,
   "metadata": {},
   "outputs": [],
   "source": [
    "exec_duration_ray"
   ]
  },
  {
   "cell_type": "code",
   "execution_count": 102,
   "metadata": {},
   "outputs": [],
   "source": [
    "ray.shutdown()"
   ]
  }
 ],
 "metadata": {
  "kernelspec": {
   "display_name": ".venv",
   "language": "python",
   "name": "python3"
  },
  "language_info": {
   "codemirror_mode": {
    "name": "ipython",
    "version": 3
   },
   "file_extension": ".py",
   "mimetype": "text/x-python",
   "name": "python",
   "nbconvert_exporter": "python",
   "pygments_lexer": "ipython3",
   "version": "3.10.11"
  }
 },
 "nbformat": 4,
 "nbformat_minor": 2
}
