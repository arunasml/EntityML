{
 "cells": [
  {
   "cell_type": "code",
   "execution_count": null,
   "metadata": {},
   "outputs": [],
   "source": [
    "from deltalake import DeltaTable, write_deltalake\n",
    "from pathlib import Path\n",
    "import pandas as pd\n",
    "import polars as pl\n",
    "from tpot import TPOTClassifier, TPOTRegressor\n",
    "from sklearn.model_selection import train_test_split"
   ]
  },
  {
   "cell_type": "code",
   "execution_count": 2,
   "metadata": {},
   "outputs": [],
   "source": [
    "input_data_path = r\"../data/delta\""
   ]
  },
  {
   "cell_type": "code",
   "execution_count": 3,
   "metadata": {},
   "outputs": [],
   "source": [
    "dt = DeltaTable(input_data_path)\n",
    "# dict of partitions\n",
    "entity_partitions = dt.partitions()\n",
    "sample_fraction = 1.0"
   ]
  },
  {
   "cell_type": "code",
   "execution_count": 4,
   "metadata": {},
   "outputs": [],
   "source": [
    "entity_partitions = [{'entity': 'entity_18'},\n",
    " {'entity': 'entity_13'},\n",
    " {'entity': 'entity_7'},\n",
    "]\n",
    "entity_partition = \"entity_1\"\n",
    "entity_col = 'entity'"
   ]
  },
  {
   "cell_type": "code",
   "execution_count": 5,
   "metadata": {},
   "outputs": [],
   "source": [
    "# tpot = TPOTRegressor(generations=5, population_size=50, verbosity=2, random_state=42)\n",
    "tpot = TPOTClassifier(generations=2, population_size=3, verbosity=2, random_state=42)"
   ]
  },
  {
   "cell_type": "code",
   "execution_count": null,
   "metadata": {},
   "outputs": [],
   "source": [
    "entity_pldf = pl.read_delta(input_data_path, pyarrow_options={\"partitions\": [(\"entity\", \"=\", f\"{entity_partition}\")]})\n",
    "entity_pdf = entity_pldf.sample(fraction=sample_fraction).to_pandas()\n",
    "\n",
    "features = [s for s in entity_pdf.columns.to_list() if s.isdigit()]\n",
    "target = 'target'\n",
    "\n",
    "# prepare data\n",
    "X_train, X_test, y_train, y_test = train_test_split(\n",
    "    entity_pdf[features], entity_pdf[target], train_size=0.75, test_size=0.25, random_state=42\n",
    ")\n",
    "\n",
    "entity_pdf.shape, X_train.shape, y_train.shape"
   ]
  },
  {
   "cell_type": "code",
   "execution_count": null,
   "metadata": {},
   "outputs": [],
   "source": [
    "tpot.fit(X_train, y_train)"
   ]
  },
  {
   "cell_type": "code",
   "execution_count": null,
   "metadata": {},
   "outputs": [],
   "source": [
    "tpot.score(X_test, y_test)"
   ]
  }
 ],
 "metadata": {
  "kernelspec": {
   "display_name": ".venv",
   "language": "python",
   "name": "python3"
  },
  "language_info": {
   "codemirror_mode": {
    "name": "ipython",
    "version": 3
   },
   "file_extension": ".py",
   "mimetype": "text/x-python",
   "name": "python",
   "nbconvert_exporter": "python",
   "pygments_lexer": "ipython3",
   "version": "3.10.11"
  }
 },
 "nbformat": 4,
 "nbformat_minor": 2
}
